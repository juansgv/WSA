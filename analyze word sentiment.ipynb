{
 "cells": [
  {
   "cell_type": "code",
   "execution_count": 3,
   "id": "15fe2ae8-ff1b-4b69-8ab7-4ea20655011e",
   "metadata": {},
   "outputs": [],
   "source": [
    "import openai\n",
    "import os"
   ]
  },
  {
   "cell_type": "code",
   "execution_count": 9,
   "id": "3ec5f4ff-b148-4859-9844-3a80cfeaf878",
   "metadata": {},
   "outputs": [],
   "source": [
    "\n",
    "# Set the OpenAI API key using an environment variable\n",
    "openai.api_key = os.getenv(\"OPENAI_API_KEY\") # Replace with your key\n",
    "\n",
    "# Define a function to generate a response to a given prompt using the OpenAI Codex API\n",
    "def get_response_to_prompt(prompt):\n",
    "    # Send a request to the API with the given prompt\n",
    "    response = openai.ChatCompletion.create(\n",
    "        model=\"gpt-3.5-turbo\",  # Use the gpt-3.5-turbo model for text generation\n",
    "        prompt=prompt,  # The prompt to generate a response to\n",
    "        max_tokens=1024,  # The maximum number of tokens in the generated response\n",
    "        temperature=0.7,  # The \"creativity\" of the generated response\n",
    "    )\n",
    "\n",
    "    # Extract the generated message from the response\n",
    "    message = response.choices[0].text.strip()\n",
    "\n",
    "    # Return the generated message\n",
    "    return message\n"
   ]
  },
  {
   "cell_type": "code",
   "execution_count": 10,
   "id": "a0968231-72b1-43b4-a3a3-9d08f85f8042",
   "metadata": {},
   "outputs": [],
   "source": [
    "prompt = \"\"\" Please clasiffy the text below, delimited by three dashes, as either positive or negative sentiment.\n",
    "\n",
    "---\n",
    "I believe in the sunshine on all my family.\n",
    "---\n",
    "\n",
    "\"\"\""
   ]
  },
  {
   "cell_type": "code",
   "execution_count": null,
   "id": "5a839ef9-b566-49ab-91e9-ac147cc7afeb",
   "metadata": {},
   "outputs": [],
   "source": [
    "response = get_response_to_prompt(prompt)\n",
    "print(response)"
   ]
  }
 ],
 "metadata": {
  "kernelspec": {
   "display_name": "Python 3 (ipykernel)",
   "language": "python",
   "name": "python3"
  },
  "language_info": {
   "codemirror_mode": {
    "name": "ipython",
    "version": 3
   },
   "file_extension": ".py",
   "mimetype": "text/x-python",
   "name": "python",
   "nbconvert_exporter": "python",
   "pygments_lexer": "ipython3",
   "version": "3.10.10"
  }
 },
 "nbformat": 4,
 "nbformat_minor": 5
}
